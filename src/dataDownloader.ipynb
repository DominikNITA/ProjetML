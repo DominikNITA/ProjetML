{
 "metadata": {
  "language_info": {
   "codemirror_mode": {
    "name": "ipython",
    "version": 3
   },
   "file_extension": ".py",
   "mimetype": "text/x-python",
   "name": "python",
   "nbconvert_exporter": "python",
   "pygments_lexer": "ipython3",
   "version": "3.6.8-final"
  },
  "orig_nbformat": 2,
  "kernelspec": {
   "name": "python3",
   "display_name": "Python 3",
   "language": "python"
  }
 },
 "nbformat": 4,
 "nbformat_minor": 2,
 "cells": [
  {
   "cell_type": "code",
   "execution_count": 18,
   "metadata": {},
   "outputs": [],
   "source": [
    "import requests\n",
    "import csv\n",
    "import openpyxl\n",
    "import xlrd"
   ]
  },
  {
   "cell_type": "code",
   "execution_count": 19,
   "metadata": {},
   "outputs": [],
   "source": [
    "def getFootballUrl(league,season,format = \"csv\"):\n",
    "    return f\"https://www.football-data.co.uk/mmz4281/{season}/{league}.{format}\"\n",
    "\n",
    "def downloadSpecificSeasonForLeague(league, season):\n",
    "    season = f\"{season}{season+1}\"\n",
    "    url = getFootballUrl(league, season)\n",
    "    print(url)\n",
    "    r = requests.get(url)\n",
    "    if(r.status_code == 200):\n",
    "        with open(f'../data/{league}-{season}.csv', 'wb') as f:\n",
    "            f.write(r.content)\n",
    "    else:\n",
    "        print(f\"{url}: File not found!\")\n",
    "\n",
    "def downloadAllEuropeanLeagues(startingYear):\n",
    "    seasonShort = startingYear%100\n",
    "    season = f\"{seasonShort}{(seasonShort+1)%100}\"\n",
    "    ext = \"xls\"\n",
    "    if startingYear >= 2017:\n",
    "        ext = \"xlsx\"\n",
    "    url = getFootballUrl(f\"all-euro-data-{startingYear}-{startingYear+1}\",season, ext)\n",
    "    print(url)\n",
    "    r = requests.get(url)\n",
    "    firstCheck = 0 #TEMP\n",
    "    if(r.status_code == 200):\n",
    "        workbookPath = f'../data/AllLeagues-{season}.{ext}'\n",
    "        print(f\"Reading file: {workbookPath}\")\n",
    "        with open(workbookPath, 'wb') as f:\n",
    "                f.write(r.content)\n",
    "        if ext == \"xlsx\":\n",
    "            book = openpyxl.load_workbook(filename = workbookPath, data_only=True)\n",
    "            for leagueSheet in book:\n",
    "                if leagueSheet.title == \"G1\": #Problem with greek league\n",
    "                    print(\"League G1 has some problems and is not counted!\")\n",
    "                    continue\n",
    "                print(f\"Current league: {leagueSheet.title}\")\n",
    "                with open(f'../data/{leagueSheet.title}-{season}.csv', 'w') as csvFile:\n",
    "                    wr = csv.writer(csvFile)\n",
    "                    for row in leagueSheet.iter_rows(min_row = leagueSheet.min_row, max_row = leagueSheet.max_row, min_col = 0, max_col = 68):\n",
    "                        rowData = []\n",
    "                        for cell in row:\n",
    "                            rowData.append(cell.value)\n",
    "                        wr.writerow(rowData)\n",
    "        else:\n",
    "            book = xlrd.open_workbook(workbookPath)\n",
    "            for leagueName in book.sheet_names():\n",
    "                if leagueName == \"G1\":\n",
    "                    print(\"League G1 has some problems and is not counted!\")\n",
    "                    continue\n",
    "                print(f\"Current league: {leagueName}\")\n",
    "                sh = book.sheet_by_name(leagueName)\n",
    "                with open(f'../data/{leagueName}-{season}.csv', 'w') as csvFile:\n",
    "                    wr = csv.writer(csvFile)\n",
    "                    for rownum in range(sh.nrows):\n",
    "                        wr.writerow(sh.row_values(rownum))\n",
    "\n",
    "    else:\n",
    "        print(f\"Invalid URL: {url}\")"
   ]
  },
  {
   "cell_type": "code",
   "execution_count": 20,
   "metadata": {},
   "outputs": [],
   "source": [
    "def downloadAndConvertToCSV():\n",
    "    for year in range(2013,2020) :\n",
    "        downloadAllEuropeanLeagues(year)"
   ]
  },
  {
   "cell_type": "code",
   "execution_count": null,
   "metadata": {},
   "outputs": [],
   "source": []
  }
 ]
}