{
 "metadata": {
  "language_info": {
   "codemirror_mode": {
    "name": "ipython",
    "version": 3
   },
   "file_extension": ".py",
   "mimetype": "text/x-python",
   "name": "python",
   "nbconvert_exporter": "python",
   "pygments_lexer": "ipython3",
   "version": "3.6.8-final"
  },
  "orig_nbformat": 2,
  "kernelspec": {
   "name": "python3",
   "display_name": "Python 3",
   "language": "python"
  }
 },
 "nbformat": 4,
 "nbformat_minor": 2,
 "cells": [
  {
   "cell_type": "code",
   "execution_count": 1,
   "metadata": {},
   "outputs": [],
   "source": [
    "import requests\n",
    "import csv\n",
    "import xlrd"
   ]
  },
  {
   "cell_type": "code",
   "execution_count": 33,
   "metadata": {},
   "outputs": [],
   "source": [
    "def getFootballUrl(league,season,format = \"csv\"):\n",
    "    return f\"https://www.football-data.co.uk/mmz4281/{season}/{league}.{format}\"\n",
    "\n",
    "def downloadData(league, season):\n",
    "    season = f\"{season}{season+1}\"\n",
    "    url = getFootballUrl(league, season)\n",
    "    print(url)\n",
    "    r = requests.get(url)\n",
    "    if(r.status_code == 200):\n",
    "        with open(f'../data/{league}-{season}.csv', 'wb') as f:\n",
    "            f.write(r.content)\n",
    "    else:\n",
    "        print(\"File not found\")\n",
    "\n",
    "def downloadAllEuropeanLeagues(startingYear):\n",
    "    seasonShort = startingYear%100\n",
    "    season = f\"{seasonShort}{(seasonShort+1)%100}\"\n",
    "    url = getFootballUrl(f\"all-euro-data-{startingYear}-{startingYear+1}\",season,\"xls\")\n",
    "    print(url)\n",
    "    r = requests.get(url)\n",
    "    firstCheck = 0 #TEMP\n",
    "    if(r.status_code == 200):\n",
    "        with open(f'../data/AllLeagues-{season}.xls', 'wb') as f:\n",
    "            f.write(r.content)\n",
    "        book = xlrd.open_workbook(f'../data/AllLeagues-{season}.xls')\n",
    "        for leagueName in book.sheet_names():\n",
    "            if leagueName == \"G1\": #Problem with greek league\n",
    "                continue\n",
    "            sh = book.sheet_by_name(leagueName)\n",
    "            csvFile = open(f'../data/{leagueName}-{season}.csv', 'w')\n",
    "            wr = csv.writer(csvFile)\n",
    "            for rownum in range(sh.nrows):\n",
    "                if firstCheck <= 2:\n",
    "                    print(sh.row_values(rownum))\n",
    "                    firstCheck += 1\n",
    "                wr.writerow(sh.row_values(rownum))\n",
    "            csvFile.close()\n",
    "    else:\n",
    "        print(f\"Invalid URL: {url}\")"
   ]
  },
  {
   "cell_type": "code",
   "execution_count": 40,
   "metadata": {},
   "outputs": [
    {
     "output_type": "stream",
     "name": "stdout",
     "text": [
      "https://www.football-data.co.uk/mmz4281/1920/all-euro-data-2019-2020.xls\n"
     ]
    },
    {
     "output_type": "error",
     "ename": "XLRDError",
     "evalue": "Excel xlsx file; not supported",
     "traceback": [
      "\u001b[1;31m---------------------------------------------------------------------------\u001b[0m",
      "\u001b[1;31mXLRDError\u001b[0m                                 Traceback (most recent call last)",
      "\u001b[1;32m<ipython-input-40-2932a9a39221>\u001b[0m in \u001b[0;36m<module>\u001b[1;34m\u001b[0m\n\u001b[1;32m----> 1\u001b[1;33m \u001b[0mdownloadAllEuropeanLeagues\u001b[0m\u001b[1;33m(\u001b[0m\u001b[1;36m2019\u001b[0m\u001b[1;33m)\u001b[0m\u001b[1;33m\u001b[0m\u001b[1;33m\u001b[0m\u001b[0m\n\u001b[0m",
      "\u001b[1;32m<ipython-input-33-8703579e95db>\u001b[0m in \u001b[0;36mdownloadAllEuropeanLeagues\u001b[1;34m(startingYear)\u001b[0m\n\u001b[0;32m     23\u001b[0m         \u001b[1;32mwith\u001b[0m \u001b[0mopen\u001b[0m\u001b[1;33m(\u001b[0m\u001b[1;34mf'../data/AllLeagues-{season}.xls'\u001b[0m\u001b[1;33m,\u001b[0m \u001b[1;34m'wb'\u001b[0m\u001b[1;33m)\u001b[0m \u001b[1;32mas\u001b[0m \u001b[0mf\u001b[0m\u001b[1;33m:\u001b[0m\u001b[1;33m\u001b[0m\u001b[1;33m\u001b[0m\u001b[0m\n\u001b[0;32m     24\u001b[0m             \u001b[0mf\u001b[0m\u001b[1;33m.\u001b[0m\u001b[0mwrite\u001b[0m\u001b[1;33m(\u001b[0m\u001b[0mr\u001b[0m\u001b[1;33m.\u001b[0m\u001b[0mcontent\u001b[0m\u001b[1;33m)\u001b[0m\u001b[1;33m\u001b[0m\u001b[1;33m\u001b[0m\u001b[0m\n\u001b[1;32m---> 25\u001b[1;33m         \u001b[0mbook\u001b[0m \u001b[1;33m=\u001b[0m \u001b[0mxlrd\u001b[0m\u001b[1;33m.\u001b[0m\u001b[0mopen_workbook\u001b[0m\u001b[1;33m(\u001b[0m\u001b[1;34mf'../data/AllLeagues-{season}.xls'\u001b[0m\u001b[1;33m)\u001b[0m\u001b[1;33m\u001b[0m\u001b[1;33m\u001b[0m\u001b[0m\n\u001b[0m\u001b[0;32m     26\u001b[0m         \u001b[1;32mfor\u001b[0m \u001b[0mleagueName\u001b[0m \u001b[1;32min\u001b[0m \u001b[0mbook\u001b[0m\u001b[1;33m.\u001b[0m\u001b[0msheet_names\u001b[0m\u001b[1;33m(\u001b[0m\u001b[1;33m)\u001b[0m\u001b[1;33m:\u001b[0m\u001b[1;33m\u001b[0m\u001b[1;33m\u001b[0m\u001b[0m\n\u001b[0;32m     27\u001b[0m             \u001b[1;32mif\u001b[0m \u001b[0mleagueName\u001b[0m \u001b[1;33m==\u001b[0m \u001b[1;34m\"G1\"\u001b[0m\u001b[1;33m:\u001b[0m \u001b[1;31m#Problem with greek league\u001b[0m\u001b[1;33m\u001b[0m\u001b[1;33m\u001b[0m\u001b[0m\n",
      "\u001b[1;32m~\\AppData\\Local\\Programs\\Python\\Python36\\lib\\site-packages\\xlrd\\__init__.py\u001b[0m in \u001b[0;36mopen_workbook\u001b[1;34m(filename, logfile, verbosity, use_mmap, file_contents, encoding_override, formatting_info, on_demand, ragged_rows, ignore_workbook_corruption)\u001b[0m\n\u001b[0;32m    168\u001b[0m     \u001b[1;31m# files that xlrd can parse don't start with the expected signature.\u001b[0m\u001b[1;33m\u001b[0m\u001b[1;33m\u001b[0m\u001b[1;33m\u001b[0m\u001b[0m\n\u001b[0;32m    169\u001b[0m     \u001b[1;32mif\u001b[0m \u001b[0mfile_format\u001b[0m \u001b[1;32mand\u001b[0m \u001b[0mfile_format\u001b[0m \u001b[1;33m!=\u001b[0m \u001b[1;34m'xls'\u001b[0m\u001b[1;33m:\u001b[0m\u001b[1;33m\u001b[0m\u001b[1;33m\u001b[0m\u001b[0m\n\u001b[1;32m--> 170\u001b[1;33m         \u001b[1;32mraise\u001b[0m \u001b[0mXLRDError\u001b[0m\u001b[1;33m(\u001b[0m\u001b[0mFILE_FORMAT_DESCRIPTIONS\u001b[0m\u001b[1;33m[\u001b[0m\u001b[0mfile_format\u001b[0m\u001b[1;33m]\u001b[0m\u001b[1;33m+\u001b[0m\u001b[1;34m'; not supported'\u001b[0m\u001b[1;33m)\u001b[0m\u001b[1;33m\u001b[0m\u001b[1;33m\u001b[0m\u001b[0m\n\u001b[0m\u001b[0;32m    171\u001b[0m \u001b[1;33m\u001b[0m\u001b[0m\n\u001b[0;32m    172\u001b[0m     bk = open_workbook_xls(\n",
      "\u001b[1;31mXLRDError\u001b[0m: Excel xlsx file; not supported"
     ]
    }
   ],
   "source": [
    "downloadAllEuropeanLeagues(2019)"
   ]
  },
  {
   "cell_type": "code",
   "execution_count": 20,
   "metadata": {},
   "outputs": [
    {
     "output_type": "stream",
     "name": "stdout",
     "text": [
      "https://www.football-data.co.uk/mmz4281/1920/E0.csv\n"
     ]
    }
   ],
   "source": [
    "downloadData('E0',19)"
   ]
  },
  {
   "cell_type": "code",
   "execution_count": 3,
   "metadata": {
    "tags": []
   },
   "outputs": [
    {
     "output_type": "stream",
     "name": "stdout",
     "text": [
      "Liverpool 4:1 Norwich\nLiverpool 3:1 Arsenal\nLiverpool 3:1 Newcastle\nLiverpool 2:1 Leicester\nLiverpool 2:1 Tottenham\nLiverpool 3:1 Man City\nLiverpool 2:1 Brighton\nLiverpool 5:2 Everton\nLiverpool 2:0 Watford\nLiverpool 1:0 Wolves\nLiverpool 2:0 Sheffield United\nLiverpool 2:0 Man United\nLiverpool 4:0 Southampton\nLiverpool 3:2 West Ham\nLiverpool 2:1 Bournemouth\nLiverpool 4:0 Crystal Palace\nLiverpool 2:0 Aston Villa\nLiverpool 1:1 Burnley\nLiverpool 5:3 Chelsea\n"
     ]
    }
   ],
   "source": [
    "with open(\"../data/E0-1920.csv\") as csvfile:\n",
    "    reader = csv.DictReader(csvfile)\n",
    "    for row in reader:\n",
    "        if row['HomeTeam'] == 'Liverpool':\n",
    "            \n",
    "            print(f\"{row['HomeTeam']} {row['FTHG']}:{row['FTAG']} {row['AwayTeam']}\")"
   ]
  },
  {
   "cell_type": "code",
   "execution_count": null,
   "metadata": {},
   "outputs": [],
   "source": []
  }
 ]
}