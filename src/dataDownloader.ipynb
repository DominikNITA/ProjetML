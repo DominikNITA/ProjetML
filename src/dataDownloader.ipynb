{
 "metadata": {
  "language_info": {
   "codemirror_mode": {
    "name": "ipython",
    "version": 3
   },
   "file_extension": ".py",
   "mimetype": "text/x-python",
   "name": "python",
   "nbconvert_exporter": "python",
   "pygments_lexer": "ipython3",
   "version": "3.6.8-final"
  },
  "orig_nbformat": 2,
  "kernelspec": {
   "name": "python3",
   "display_name": "Python 3",
   "language": "python"
  }
 },
 "nbformat": 4,
 "nbformat_minor": 2,
 "cells": [
  {
   "cell_type": "code",
   "execution_count": 4,
   "metadata": {},
   "outputs": [],
   "source": [
    "import requests\n",
    "import csv"
   ]
  },
  {
   "cell_type": "code",
   "execution_count": 5,
   "metadata": {},
   "outputs": [],
   "source": [
    "def getFootballUrl(league,season):\n",
    "    return f\"https://www.football-data.co.uk/mmz4281/{season}/{league}.csv\"\n",
    "\n",
    "def downloadData(league, season):\n",
    "    url = getFootballUrl(league, season)\n",
    "    r = requests.get(url)\n",
    "    if(r.status_code == 200):\n",
    "        with open(f'../data/{league}-{season}.csv', 'wb') as f:\n",
    "            f.write(r.content)\n",
    "    else:\n",
    "        print(\"File not found\")"
   ]
  },
  {
   "cell_type": "code",
   "execution_count": 9,
   "metadata": {},
   "outputs": [],
   "source": [
    "downloadData(\"E0\",1718)"
   ]
  },
  {
   "cell_type": "code",
   "execution_count": 3,
   "metadata": {
    "tags": []
   },
   "outputs": [
    {
     "output_type": "stream",
     "name": "stdout",
     "text": [
      "Liverpool 4:1 Norwich\nLiverpool 3:1 Arsenal\nLiverpool 3:1 Newcastle\nLiverpool 2:1 Leicester\nLiverpool 2:1 Tottenham\nLiverpool 3:1 Man City\nLiverpool 2:1 Brighton\nLiverpool 5:2 Everton\nLiverpool 2:0 Watford\nLiverpool 1:0 Wolves\nLiverpool 2:0 Sheffield United\nLiverpool 2:0 Man United\nLiverpool 4:0 Southampton\nLiverpool 3:2 West Ham\nLiverpool 2:1 Bournemouth\nLiverpool 4:0 Crystal Palace\nLiverpool 2:0 Aston Villa\nLiverpool 1:1 Burnley\nLiverpool 5:3 Chelsea\n"
     ]
    }
   ],
   "source": [
    "with open(\"../data/E0-1920.csv\") as csvfile:\n",
    "    reader = csv.DictReader(csvfile)\n",
    "    for row in reader:\n",
    "        if row['HomeTeam'] == 'Liverpool':\n",
    "            \n",
    "            print(f\"{row['HomeTeam']} {row['FTHG']}:{row['FTAG']} {row['AwayTeam']}\")"
   ]
  },
  {
   "cell_type": "code",
   "execution_count": null,
   "metadata": {},
   "outputs": [],
   "source": []
  }
 ]
}