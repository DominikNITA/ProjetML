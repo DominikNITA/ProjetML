{
 "metadata": {
  "language_info": {
   "codemirror_mode": {
    "name": "ipython",
    "version": 3
   },
   "file_extension": ".py",
   "mimetype": "text/x-python",
   "name": "python",
   "nbconvert_exporter": "python",
   "pygments_lexer": "ipython3",
   "version": "3.8.5-final"
  },
  "orig_nbformat": 2,
  "kernelspec": {
   "name": "python3",
   "display_name": "Python 3",
   "language": "python"
  }
 },
 "nbformat": 4,
 "nbformat_minor": 2,
 "cells": [
  {
   "cell_type": "code",
   "execution_count": 12,
   "metadata": {},
   "outputs": [],
   "source": [
    "import requests\n",
    "import csv"
   ]
  },
  {
   "cell_type": "code",
   "execution_count": 10,
   "metadata": {},
   "outputs": [],
   "source": [
    "def getFootballUrl(league,season):\n",
    "    return f\"https://www.football-data.co.uk/mmz4281/{season}/{league}.csv\"\n",
    "\n",
    "def downloadData(league, season):\n",
    "    url = getFootballUrl(league, season)\n",
    "    r = requests.get(url)\n",
    "    with open(f'../data/{league}-{season}.csv', 'wb') as f:\n",
    "        f.write(r.content)"
   ]
  },
  {
   "cell_type": "code",
   "execution_count": 11,
   "metadata": {},
   "outputs": [],
   "source": [
    "downloadData(\"E0\",1920)"
   ]
  },
  {
   "cell_type": "code",
   "execution_count": 16,
   "metadata": {
    "tags": []
   },
   "outputs": [
    {
     "output_type": "stream",
     "name": "stdout",
     "text": [
      "Liverpool\nWest Ham\nBournemouth\nBurnley\nCrystal Palace\nWatford\nTottenham\nLeicester\nNewcastle\nMan United\nArsenal\nAston Villa\nBrighton\nEverton\nNorwich\nSouthampton\nMan City\nSheffield United\nChelsea\nWolves\nAston Villa\nNorwich\nBrighton\nMan United\nSheffield United\nWatford\nLiverpool\nBournemouth\nTottenham\nWolves\nSouthampton\nChelsea\nCrystal Palace\nLeicester\nMan City\nNewcastle\nWest Ham\nBurnley\nEverton\nArsenal\nLiverpool\nBrighton\nMan United\nSheffield United\nTottenham\nWolves\nNorwich\nBournemouth\nWatford\nAston Villa\nSouthampton\nLeicester\nBurnley\nEverton\nMan City\nNewcastle\nCrystal Palace\nWest Ham\nArsenal\nChelsea\nSheffield United\nAston Villa\nBournemouth\nChelsea\nCrystal Palace\nTottenham\nWolves\nEverton\nLeicester\nMan United\nBrighton\nBurnley\nLiverpool\nNorwich\nWatford\nWest Ham\nArsenal\nMan City\nSouthampton\nNewcastle\nEverton\nAston Villa\nBournemouth\nChelsea\nLeicester\nTottenham\nWolves\nCrystal Palace\nMan United\nSheffield United\nSouthampton\nMan City\nBrighton\nWatford\nWest Ham\nBurnley\nNewcastle\nArsenal\nLiverpool\nNorwich\nBournemouth\nArsenal\nAston Villa\nBrighton\nMan City\nSheffield United\nWest Ham\nWatford\nCrystal Palace\nEverton\nNorwich\nChelsea\nBurnley\nNewcastle\nSouthampton\nTottenham\nLeicester\nMan United\nWolves\nLiverpool\nWest Ham\nArsenal\nBournemouth\nBrighton\nCrystal Palace\nEverton\nWatford\nMan City\nSheffield United\nAston Villa\nNewcastle\nBurnley\nChelsea\nLiverpool\nTottenham\nSouthampton\nNorwich\nWolves\nLeicester\nMan United\nCrystal Palace\nBurnley\nChelsea\nLeicester\nMan United\nSouthampton\nWolves\nLiverpool\nSheffield United\nArsenal\nEverton\nBournemouth\nTottenham\nWatford\nMan City\nAston Villa\nNewcastle\nNorwich\nBrighton\nWest Ham\nLiverpool\nBurnley\nChelsea\nLeicester\nSheffield United\nSouthampton\nMan United\nWolves\nArsenal\nCrystal Palace\nEverton\nAston Villa\nBournemouth\nBrighton\nNewcastle\nNorwich\nMan City\nWatford\nTottenham\nTottenham\nAston Villa\nBournemouth\nChelsea\nCrystal Palace\nEverton\nSheffield United\nMan United\nLeicester\nWolves\nBrighton\nNewcastle\nSouthampton\nWatford\nNorwich\nWest Ham\nBurnley\nArsenal\nLiverpool\nMan City\nBrighton\nBurnley\nNewcastle\nSouthampton\nWatford\nMan City\nNorwich\nWest Ham\nArsenal\nLiverpool\nSheffield United\nCrystal Palace\nChelsea\nEverton\nLeicester\nMan United\nWolves\nTottenham\nBournemouth\nAston Villa\nWatford\nArsenal\nBrighton\nMan City\nNorwich\nSouthampton\nWest Ham\nNewcastle\nBurnley\nLiverpool\nAston Villa\nBournemouth\nCrystal Palace\nEverton\nSheffield United\nChelsea\nLeicester\nTottenham\nMan United\nWolves\nWest Ham\nLeicester\nBournemouth\nCrystal Palace\nLiverpool\nNewcastle\nWatford\nWest Ham\nMan United\nBurnley\nTottenham\nEverton\nBrighton\nSheffield United\nWolves\nSouthampton\nNorwich\nAston Villa\nArsenal\nChelsea\nMan City\nChelsea\nBurnley\nCrystal Palace\nSheffield United\nSouthampton\nLeicester\nMan United\nWolves\nArsenal\nLiverpool\nNorwich\nBrighton\nBournemouth\nNewcastle\nWest Ham\nWatford\nEverton\nTottenham\nLiverpool\nArsenal\nCrystal Palace\nSheffield United\nSouthampton\nWolves\nBurnley\nChelsea\nMan United\nLeicester\nAston Villa\nMan City\nNorwich\nTottenham\nWatford\nBrighton\nWest Ham\nBournemouth\nNewcastle\nAston Villa\nEverton\nMan City\nLeicester\nTottenham\nMan United\nNewcastle\nNorwich\nWolves\nLiverpool\nBurnley\nSouthampton\nChelsea\nAston Villa\nWatford\nCrystal Palace\nBrighton\nArsenal\nBournemouth\nEverton\nWest Ham\nSheffield United\nMan City\nNorwich\nLeicester\nMan United\nWolves\nChelsea\nBurnley\nNewcastle\nLiverpool\nSouthampton\nTottenham\nCrystal Palace\nWatford\nArsenal\nMan City\nSheffield United\nWest Ham\nBrighton\nBournemouth\nEverton\nAston Villa\nNorwich\nWatford\nLiverpool\nSheffield United\nBrighton\nWolves\nAston Villa\nTottenham\nBournemouth\nMan United\nChelsea\nBurnley\nMan City\nNewcastle\nArsenal\nEverton\nLeicester\nCrystal Palace\nSouthampton\nWest Ham\nNorwich\nBournemouth\nTottenham\nBrighton\nSheffield United\nWolves\nWatford\nAston Villa\nMan United\nLiverpool\nArsenal\nBurnley\nChelsea\nCrystal Palace\nEverton\nLeicester\nMan City\nNewcastle\nSouthampton\nWest Ham\n"
     ]
    }
   ],
   "source": [
    "with open(\"../data/E0-1920.csv\") as csvfile:\n",
    "    reader = csv.DictReader(csvfile)\n",
    "    for row in reader:\n",
    "        print(row['HomeTeam'])"
   ]
  },
  {
   "cell_type": "code",
   "execution_count": null,
   "metadata": {},
   "outputs": [],
   "source": []
  }
 ]
}