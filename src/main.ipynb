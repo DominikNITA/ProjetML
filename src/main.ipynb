{
 "metadata": {
  "language_info": {
   "codemirror_mode": {
    "name": "ipython",
    "version": 3
   },
   "file_extension": ".py",
   "mimetype": "text/x-python",
   "name": "python",
   "nbconvert_exporter": "python",
   "pygments_lexer": "ipython3",
   "version": "3.6.8-final"
  },
  "orig_nbformat": 2,
  "kernelspec": {
   "name": "python3",
   "display_name": "Python 3",
   "language": "python"
  }
 },
 "nbformat": 4,
 "nbformat_minor": 2,
 "cells": [
  {
   "cell_type": "code",
   "execution_count": 1,
   "metadata": {},
   "outputs": [
    {
     "output_type": "stream",
     "name": "stdout",
     "text": [
      "Importing Jupyter notebook from dataDownloader.ipynb\n"
     ]
    }
   ],
   "source": [
    "import nbimporter\n",
    "import dataDownloader as dd"
   ]
  },
  {
   "cell_type": "code",
   "execution_count": 2,
   "metadata": {},
   "outputs": [],
   "source": [
    "def getPreviousMatches(matches,x,teamVenue,predictionMatches):\n",
    "    previousMatches = []\n",
    "    for i in range(x-1,0,-1):\n",
    "        if(len(previousMatches) == predictionMatches):\n",
    "            break\n",
    "        if(matches[x][teamVenue]==matches[i]['HomeTeam'] or matches[x][teamVenue]==matches[i]['AwayTeam']):\n",
    "            previousMatches.append(matches[i])\n",
    "    return previousMatches"
   ]
  },
  {
   "cell_type": "code",
   "execution_count": 7,
   "metadata": {},
   "outputs": [],
   "source": [
    "import glob\n",
    "import csv\n",
    "import random\n",
    "def generateLearningSet(pastMatchesTaken):\n",
    "    #Read files\n",
    "    filesPaths = glob.glob(\"../data/*.csv\")\n",
    "    x_data = []\n",
    "    y_data = []\n",
    "    for dataFile in filesPaths: \n",
    "        print(f\"Reading file {dataFile}\")\n",
    "        with open(dataFile) as csvfile:\n",
    "            reader = csv.DictReader(csvfile)\n",
    "            #print(f\"reading file {dataFile} with {sum(1 for line in reader)} entries\")\n",
    "            matches = []\n",
    "            for row in reader:\n",
    "                matches.append(row)\n",
    "            for x in range(len(matches)):\n",
    "                homePreviousMatches = getPreviousMatches(matches, x, 'HomeTeam', pastMatchesTaken)\n",
    "                awayPreviousMatches = getPreviousMatches(matches, x,'AwayTeam', pastMatchesTaken)\n",
    "                matchLearningData = []\n",
    "                if len(homePreviousMatches) == pastMatchesTaken and len(awayPreviousMatches) == pastMatchesTaken:\n",
    "                    #print(f\"{x}: {matches[x]['HomeTeam']} vs {matches[x]['AwayTeam']}\")\n",
    "\n",
    "                    for hm in homePreviousMatches:\n",
    "                        temp = []\n",
    "                        if matches[x]['HomeTeam'] == hm['HomeTeam']:\n",
    "                            temp.append(int(float(hm['FTHG']))-int(float(hm['FTAG'])))\n",
    "                            temp.append(int(hm['HS']))\n",
    "                            temp.append(int(hm['AS']))\n",
    "                            temp.append(int(hm['HST']))\n",
    "                            temp.append(int(hm['AST']))\n",
    "                            temp.append(int(hm['HC']))\n",
    "                            temp.append(int(hm['AC']))\n",
    "                        else:\n",
    "                            temp.append(int(float(hm['FTAG']))-int(float(hm['FTHG'])))\n",
    "                            temp.append(int(hm['AS']))\n",
    "                            temp.append(int(hm['HS']))\n",
    "                            temp.append(int(hm['AST']))\n",
    "                            temp.append(int(hm['HST']))\n",
    "                            temp.append(int(hm['AC']))\n",
    "                            temp.append(int(hm['HC']))\n",
    "                        matchLearningData.append(temp)\n",
    "\n",
    "                    for am in homePreviousMatches:\n",
    "                        temp = []\n",
    "                        if matches[x]['AwayTeam'] == am['HomeTeam']:\n",
    "                            temp.append(int(float(am['FTHG']))-int(float(am['FTAG'])))\n",
    "                            temp.append(int(am['HS']))\n",
    "                            temp.append(int(am['AS']))\n",
    "                            temp.append(int(am['HST']))\n",
    "                            temp.append(int(am['AST']))\n",
    "                            temp.append(int(am['HC']))\n",
    "                            temp.append(int(am['AC']))\n",
    "                        else:\n",
    "                            temp.append(int(float(am['FTAG']))-int(float(am['FTHG'])))\n",
    "                            temp.append(int(am['AS']))\n",
    "                            temp.append(int(am['HS']))\n",
    "                            temp.append(int(am['AST']))\n",
    "                            temp.append(int(am['HST']))\n",
    "                            temp.append(int(am['AC']))\n",
    "                            temp.append(int(am['HC']))\n",
    "                        matchLearningData.append(temp)\n",
    "                        \n",
    "\n",
    "                    x_data.append(matchLearningData)\n",
    "                    y_data.append(int(float(matches[x]['FTHG']))-int(float(matches[x]['FTAG'])))\n",
    "    return x_data, y_data\n",
    "\n",
    "def createTrainAndTestSets(x_data, y_data, trainToOverallRatio):\n",
    "    x_train = []\n",
    "    y_train = []\n",
    "    x_test = []\n",
    "    y_test = []\n",
    "    for i in range(len(x_data)):\n",
    "        if(random.random() < trainToOverallRatio):\n",
    "            x_train.append(x_data[i])\n",
    "            y_train.append(y_data[i])\n",
    "        else:\n",
    "            x_test.append(x_data[i])\n",
    "            y_test.append(y_data[i])\n",
    "    print(f\"overall matches count: {len(x_data)}\")\n",
    "    print(f\"train matches count: {len(x_train)}   {len(x_train)/len(x_data)}% of overall\")\n",
    "    print(f\"test matches count: {len(x_test)}\")\n",
    "    print(x_data[0])\n",
    "    return x_train, y_train, x_test, y_test"
   ]
  },
  {
   "cell_type": "code",
   "execution_count": 15,
   "metadata": {
    "tags": []
   },
   "outputs": [
    {
     "output_type": "stream",
     "name": "stdout",
     "text": [
      "Reading file ../data\\E0-1920.csv\noverall matches count: 328\ntrain matches count: 238   0.725609756097561% of overall\ntest matches count: 90\n[[1, 11, 17, 7, 4, 6, 12], [0, 10, 21, 2, 8, 2, 3], [2, 12, 12, 4, 3, 5, 8], [-1, 14, 15, 3, 6, 5, 9], [-3, 11, 10, 3, 4, 7, 2], [1, 11, 17, 7, 4, 6, 12], [0, 21, 10, 8, 2, 3, 2], [2, 12, 12, 4, 3, 5, 8], [1, 15, 14, 6, 3, 9, 5], [-3, 11, 10, 3, 4, 7, 2]]\n"
     ]
    }
   ],
   "source": [
    "x_data, y_data = generateLearningSet(5)\n",
    "x_train, y_train, x_test, y_test = createTrainAndTestSets(x_data, y_data, 0.7)"
   ]
  },
  {
   "cell_type": "code",
   "execution_count": null,
   "metadata": {},
   "outputs": [],
   "source": []
  },
  {
   "cell_type": "code",
   "execution_count": null,
   "metadata": {},
   "outputs": [],
   "source": []
  }
 ]
}